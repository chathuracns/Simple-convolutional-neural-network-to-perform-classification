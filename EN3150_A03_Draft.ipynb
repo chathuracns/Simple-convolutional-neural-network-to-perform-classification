{
  "cells": [
    {
      "cell_type": "markdown",
      "metadata": {
        "id": "mN-CIN_t2ItL"
      },
      "source": [
        "**EN3150 Assignment 03: Simple convolutional neural network\n",
        "to perform classification.**"
      ]
    },
    {
      "cell_type": "markdown",
      "metadata": {
        "id": "mKuyqQUt2ItP"
      },
      "source": [
        "**1 CNN for image classification**\n",
        "\n",
        "In this assignment, you will create a simple image classifier using convolutional neural network (CNN). You have the freedom to use any programming language and toolkit of your choice, but it is recommended to use the Python programming language along with TensorFlow and Keras or PyTorch to construct the convolutional neural network (CNN).\n",
        "\n",
        "1. Why CNNs preferable for image classification over multilayered perceptrons (MLPs)\n",
        "or simple feedforward neural networks (NNs)?\n",
        "\n",
        "2. Set up your environment: Ensure that you have installed all the required software\n",
        "packages.\n",
        "\n",
        "3. Prepare your dataset: Download the CIFAR-10 dataset. This dataset contains 60,000\n",
        "color images in 10 different classes. Documentation of this data set can be found\n",
        "in CIFAR-10 dataset. You may use listing 1 to load data. Further, apply suitable\n",
        "feature scaling. Refer this for more information \"pytorch normalization\".\n",
        "\n",
        "4. Split the dataset into training, validation, and testing subsets using a ratio of 60%\n",
        "for training and 20% each for validation and testing sets1\n",
        ".\n"
      ]
    },
    {
      "cell_type": "code",
      "execution_count": 1,
      "metadata": {
        "colab": {
          "base_uri": "https://localhost:8080/"
        },
        "id": "-niI6S5I2ItQ",
        "outputId": "d23adef9-bfe5-4121-ecbb-2bd386035c0b"
      },
      "outputs": [
        {
          "output_type": "stream",
          "name": "stdout",
          "text": [
            "Downloading https://www.cs.toronto.edu/~kriz/cifar-10-python.tar.gz to ./data/cifar-10-python.tar.gz\n"
          ]
        },
        {
          "output_type": "stream",
          "name": "stderr",
          "text": [
            "100%|██████████| 170498071/170498071 [00:04<00:00, 35335371.23it/s]\n"
          ]
        },
        {
          "output_type": "stream",
          "name": "stdout",
          "text": [
            "Extracting ./data/cifar-10-python.tar.gz to ./data\n",
            "Files already downloaded and verified\n",
            "Downloading data from https://www.cs.toronto.edu/~kriz/cifar-10-python.tar.gz\n",
            "\u001b[1m170498071/170498071\u001b[0m \u001b[32m━━━━━━━━━━━━━━━━━━━━\u001b[0m\u001b[37m\u001b[0m \u001b[1m2s\u001b[0m 0us/step\n"
          ]
        }
      ],
      "source": [
        "# Include all the required libraries from pytorch\n",
        "import torchvision # torchvision contains popular datasets, model architectures, and common image transformations.\n",
        "import torchvision.transforms as transforms # transforms module allows image preprocessing like normalization, augmentation.\n",
        "# (e.g., converting them to tensor format and normalizing the pixel values)\n",
        "# Define data transformations (optional, but recommended)\n",
        "transform = transforms.Compose([\n",
        "    transforms.ToTensor(), # Convert images to PyTorch tensors (from PIL format or NumPy arrays).\n",
        "    transforms.Normalize((0.5, 0.5, 0.5), (0.5, 0.5, 0.5))  # Normalize the images by setting the mean and standard deviation for RGB channels.\n",
        "])\n",
        "\n",
        "# Load the training dataset\n",
        "train_dataset = torchvision.datasets.CIFAR10(root='./data', # Directory where the dataset will be downloaded (or located).\n",
        "                                             train=True, # Specify that this is the training dataset.\n",
        "                                             transform=transform, # Apply the transformation (ToTensor and normalization).\n",
        "                                             download=True # Download the dataset if it's not already present.\n",
        "                                             )\n",
        "\n",
        "# Load the testing dataset\n",
        "test_dataset = torchvision.datasets.CIFAR10(root='./data', # Directory where the dataset will be downloaded (or located).\n",
        "                                            train=False, # Specify that this is the testing dataset.\n",
        "                                            transform=transform, # Apply the same transformations as the training set.\n",
        "                                            download=True  # Download the dataset if it's not already present.\n",
        "                                            )\n",
        "\n",
        "# Import necessary functions from the Keras library\n",
        "from keras.datasets import cifar10 # Keras provides a CIFAR-10 dataset loader out-of-the-box.\n",
        "\n",
        "\n",
        "# Load the CIFAR-10 dataset (which returns two tuples: one for training and one for testing).\n",
        "\n",
        "(train_images, train_labels), (test_images, test_labels) = cifar10.load_data() # Automatically splits data into train/test sets.\n"
      ]
    },
    {
      "cell_type": "code",
      "execution_count": 2,
      "metadata": {
        "id": "9CqtO2lN2ItS"
      },
      "outputs": [],
      "source": [
        "import torch  #is the main library for working with tensors and building neural networks in PyTorch.\n",
        "from torch.utils.data import random_split #used to split a dataset into non-overlapping random subsets.\n",
        "\n",
        "\n",
        "# Assuming you have already loaded the CIFAR-10 dataset into train_dataset and test_dataset\n",
        "\n",
        "# Calculate the sizes for training, validation, and test sets\n",
        "total_size = len(train_dataset) #Calculate the total number of samples in the training dataset.\n",
        "train_size = int(0.6 * total_size) #Calculate 60% of the dataset for training.\n",
        "val_size = int(0.2 * total_size) #Calculate 20% of the dataset for validation.\n",
        "test_size = total_size - train_size - val_size #Calculate the remaining 20% for the test set.\n",
        "\n",
        "# Split the dataset\n",
        "train_set, val_set, test_set = random_split(train_dataset, [train_size, val_size, test_size]) #Each subset is a random sampling of the original dataset, ensuring a balanced distribution of data between sets.\n",
        "\n",
        "# Create data loaders for training, validation, and testing\n",
        "train_loader = torch.utils.data.DataLoader(train_set, batch_size=64, shuffle=True, num_workers=2) #Converts the subsets (train_set, val_set, and test_set) into PyTorch\n",
        "val_loader = torch.utils.data.DataLoader(val_set, batch_size=64, shuffle=False, num_workers=2) #objects, which allow for easy batch processing during model training and evaluation.\n",
        "test_loader = torch.utils.data.DataLoader(test_set, batch_size=64, shuffle=False, num_workers=2) #batch_size=64: Defines the size of each batch of data (i.e., the number of images processed in parallel). Here, 64 samples are used per batch.\n",
        "\n"
      ]
    },
    {
      "cell_type": "markdown",
      "metadata": {
        "id": "xdqKC05F2ItT"
      },
      "source": [
        "5. Build the CNN model: A common CNN design consists of interleaving convolutional\n",
        "and max-pooling layers, ending with a linear classification layer [1]. This pattern is\n",
        "illustrated in Figure 1\n",
        "2\n",
        ", and it was inspired by Fukushima’s neocognitron [2] and\n",
        "Hubel and Wiesel’s work on human visual cortex [3]. Yann LeCun’s LeNet model\n",
        "refined this approach in 1998, popularizing it through backpropagation and SGD [4].\n",
        "In this example (Figure 1), we exclude normalization layers from the CNN design\n",
        "because the model is relatively simple and not very deep. Here, the benefits of\n",
        "normalization layers may not be visible. However, in deep neural networks, normal\u0002ization layers, such as batch normalization or layer normalization, are often used to\n",
        "improve training stability. They help mitigate issues like vanishing gradients and\n",
        "can make it easier for deep networks to converge during training. Refer tensorflow\n",
        "batch normalization and pytorch batch normalization for more information.\n",
        "\n",
        "\n",
        "A basic CNN architecture is given below. Feel free to modify this network by adding\n",
        "more layers.\n",
        "\n",
        "• A Convolutional layer with x1 filters, a m1 × m1 kernel, and ’relu’ activation.\n",
        "\n",
        "• A MaxPooling layer.\n",
        "\n",
        "• Another Convolutional layer with x2 filters, a m2 × m2 kernel, and ’relu’ activation.\n",
        "\n",
        "• Another MaxPooling layer.\n",
        "\n",
        "• Flatten the output.\n",
        "\n",
        "• A fully connected layer with x3 units and ’relu’ activation.\n",
        "\n",
        "• Add dropout with a rate of d to reduce overfitting.\n",
        "\n",
        "• An output layer with 10 units (for 10 classes) and ’softmax’ activation."
      ]
    },
    {
      "cell_type": "code",
      "execution_count": 12,
      "metadata": {
        "colab": {
          "base_uri": "https://localhost:8080/"
        },
        "id": "IzSvbeMJ2Itf",
        "outputId": "767f2788-dda6-47de-a61f-b2f63a538332"
      },
      "outputs": [
        {
          "output_type": "stream",
          "name": "stdout",
          "text": [
            "SimpleCNN(\n",
            "  (conv1): Conv2d(3, 16, kernel_size=(3, 3), stride=(1, 1), padding=(1, 1))\n",
            "  (relu1): ReLU()\n",
            "  (maxpool1): MaxPool2d(kernel_size=2, stride=2, padding=0, dilation=1, ceil_mode=False)\n",
            "  (conv2): Conv2d(16, 32, kernel_size=(3, 3), stride=(1, 1), padding=(1, 1))\n",
            "  (relu2): ReLU()\n",
            "  (maxpool2): MaxPool2d(kernel_size=2, stride=2, padding=0, dilation=1, ceil_mode=False)\n",
            "  (flatten): Flatten(start_dim=1, end_dim=-1)\n",
            "  (fc1): Linear(in_features=2048, out_features=128, bias=True)\n",
            "  (relu3): ReLU()\n",
            "  (dropout): Dropout(p=0.5, inplace=False)\n",
            "  (fc2): Linear(in_features=128, out_features=10, bias=True)\n",
            "  (softmax): Softmax(dim=1)\n",
            ")\n",
            "\n",
            "Model Parameters:\n",
            "conv1.weight\t\ttorch.Size([16, 3, 3, 3])\t\tTotal Parameters: 432\n",
            "conv1.bias\t\ttorch.Size([16])\t\tTotal Parameters: 16\n",
            "conv2.weight\t\ttorch.Size([32, 16, 3, 3])\t\tTotal Parameters: 4608\n",
            "conv2.bias\t\ttorch.Size([32])\t\tTotal Parameters: 32\n",
            "fc1.weight\t\ttorch.Size([128, 2048])\t\tTotal Parameters: 262144\n",
            "fc1.bias\t\ttorch.Size([128])\t\tTotal Parameters: 128\n",
            "fc2.weight\t\ttorch.Size([10, 128])\t\tTotal Parameters: 1280\n",
            "fc2.bias\t\ttorch.Size([10])\t\tTotal Parameters: 10\n"
          ]
        }
      ],
      "source": [
        "import torch #torch: Main PyTorch library for tensor operations.\n",
        "import torch.nn as nn #Provides neural network layers, activations, and loss functions.\n",
        "import torch.optim as optim #Contains optimization algorithms like SGD, Adam, etc.\n",
        "\n",
        "class SimpleCNN(nn.Module):  #Defines a custom class SimpleCNN, which inherits from torch.nn.Module, the base class for all neural network modules in PyTorch.\n",
        "    def __init__(self, x1, m1, x2, m2, x3, d):# Initializes the SimpleCNN model with hyperparameters: x1: Number of filters in the first convolutional layer. m1: Kernel size for the first convolutional layer. x2: Number of filters in the second convolutional layer. m2: Kernel size for the second convolutional layer. x3: Number of units in the fully connected (FC) layer. d: Dropout rate.\n",
        "        super(SimpleCNN, self).__init__() #Calls the parent class (nn.Module) constructor to properly initialize the neural network.\n",
        "        # Convolutional layer 1\n",
        "        self.conv1 = nn.Conv2d(in_channels=3, out_channels=x1, kernel_size=m1, stride=1, padding=1)\n",
        "        self.relu1 = nn.ReLU() #ReLU activation function for introducing non-linearity.\n",
        "        self.maxpool1 = nn.MaxPool2d(kernel_size=2, stride=2) #Max-pooling layer with a 2x2 kernel and a stride of 2, reducing the spatial dimensions by half.\n",
        "\n",
        "        # Convolutional layer 2\n",
        "        self.conv2 = nn.Conv2d(in_channels=x1, out_channels=x2, kernel_size=m2, stride=1, padding=1)\n",
        "        self.relu2 = nn.ReLU()\n",
        "        self.maxpool2 = nn.MaxPool2d(kernel_size=2, stride=2)\n",
        "\n",
        "        # Fully connected layer\n",
        "        self.flatten = nn.Flatten() # Flattens the feature map into a 1D vector, preparing it for the fully connected layer.\n",
        "        self.fc1 = nn.Linear(x2 * (32 // 4) * (32 // 4), x3)\n",
        "        self.relu3 = nn.ReLU()\n",
        "        self.dropout = nn.Dropout(p=d) #Dropout layer with a dropout rate of d, to reduce overfitting by randomly setting some activations to zero during training.\n",
        "\n",
        "        # Output layer\n",
        "        self.fc2 = nn.Linear(x3, 10)  #Fully connected output layer with x3 input units and 10 output units, corresponding to the 10 classes in the CIFAR-10 dataset.\n",
        "        self.softmax = nn.Softmax(dim=1) #Applies the softmax function across the class dimension to generate class probabilities.\n",
        "\n",
        "\n",
        "    def forward(self, x): #Forward Pass:\n",
        "\n",
        "        x = self.maxpool1(self.relu1(self.conv1(x))) #First convolutional layer, ReLU, and max-pooling.\n",
        "        x = self.maxpool2(self.relu2(self.conv2(x))) #Second convolutional layer, ReLU, and max-pooling.\n",
        "        x = self.flatten(x) #Flattening the output to a 1D vector.\n",
        "        x = self.dropout(self.relu3(self.fc1(x))) #Fully connected layer, ReLU, and dropout.\n",
        "        x = self.softmax(self.fc2(x)) #Output layer with softmax to return class probabilities.\n",
        "        return x\n",
        "\n",
        "# Instantiate the model\n",
        "x1, m1, x2, m2, x3, d = 16, 3, 32, 3, 128, 0.5  # You can adjust these hyperparameters\n",
        "#Creates an instance of SimpleCNN with specified hyperparameters: x1=16 filters in the first convolutional layer, kernel size m1=3, x2=32 filters in the second layer, x3=128 units in the fully connected layer, and d=0.5 dropout rate.\n",
        "model = SimpleCNN(x1, m1, x2, m2, x3, d)\n",
        "\n",
        "# Print the model architecture\n",
        "print(model)\n",
        "\n",
        "# Print model parameters in a table format\n",
        "print(\"\\nModel Parameters:\")\n",
        "for name, param in model.named_parameters():\n",
        "    print(f\"{name}\\t\\t{param.shape}\\t\\tTotal Parameters: {param.numel()}\")"
      ]
    },
    {
      "cell_type": "markdown",
      "metadata": {
        "id": "8-iAN7lk2Itg"
      },
      "source": [
        "6. Determine the parameters of the above network such as kernel sizes, filter sizes, size\n",
        "of the fully connected layer and dropout rate."
      ]
    },
    {
      "cell_type": "code",
      "execution_count": 4,
      "metadata": {
        "id": "LoV1A4F82Itg"
      },
      "outputs": [],
      "source": [
        "x1, m1, x2, m2, x3, d = 16, 3, 32, 3, 128, 0.5  # Adjust these hyperparameters\n",
        "model = SimpleCNN(x1, m1, x2, m2, x3, d)\n"
      ]
    },
    {
      "cell_type": "markdown",
      "metadata": {
        "id": "mBSzDjWC2Ith"
      },
      "source": [
        "7. Train the model: Train the model using the training data for 20 epochs and plot\n",
        "training and validation loss for with respect to epoch. Here, for the optimizer\n",
        "you may use adam and sparse categorical crossentropy as the loss function. Set\n",
        "a suitable learning rate. Refer this page to see available optimizers keras opti\u0002mizers and pytorch optimizers. More information about optimizer can be found in\n",
        "https://cs231n.github.io/neural-networks\n",
        "\n"
      ]
    },
    {
      "cell_type": "code",
      "execution_count": 5,
      "metadata": {
        "colab": {
          "base_uri": "https://localhost:8080/",
          "height": 835
        },
        "id": "f2nB1W792Ith",
        "outputId": "4d1ac798-820f-4c75-9187-3c3de3d2dc56"
      },
      "outputs": [
        {
          "output_type": "stream",
          "name": "stdout",
          "text": [
            "Epoch [1/20], Train Loss: 2.1501, Validation Loss: 2.0520\n",
            "Epoch [2/20], Train Loss: 2.0416, Validation Loss: 1.9955\n",
            "Epoch [3/20], Train Loss: 2.0034, Validation Loss: 1.9495\n",
            "Epoch [4/20], Train Loss: 1.9780, Validation Loss: 1.9364\n",
            "Epoch [5/20], Train Loss: 1.9571, Validation Loss: 1.9287\n",
            "Epoch [6/20], Train Loss: 1.9407, Validation Loss: 1.9132\n",
            "Epoch [7/20], Train Loss: 1.9274, Validation Loss: 1.8931\n",
            "Epoch [8/20], Train Loss: 1.9144, Validation Loss: 1.8805\n",
            "Epoch [9/20], Train Loss: 1.9031, Validation Loss: 1.8803\n",
            "Epoch [10/20], Train Loss: 1.8901, Validation Loss: 1.8674\n",
            "Epoch [11/20], Train Loss: 1.8821, Validation Loss: 1.8580\n",
            "Epoch [12/20], Train Loss: 1.8731, Validation Loss: 1.8511\n",
            "Epoch [13/20], Train Loss: 1.8669, Validation Loss: 1.8522\n",
            "Epoch [14/20], Train Loss: 1.8599, Validation Loss: 1.8598\n",
            "Epoch [15/20], Train Loss: 1.8512, Validation Loss: 1.8410\n",
            "Epoch [16/20], Train Loss: 1.8440, Validation Loss: 1.8546\n",
            "Epoch [17/20], Train Loss: 1.8385, Validation Loss: 1.8416\n",
            "Epoch [18/20], Train Loss: 1.8296, Validation Loss: 1.8360\n",
            "Epoch [19/20], Train Loss: 1.8268, Validation Loss: 1.8393\n",
            "Epoch [20/20], Train Loss: 1.8280, Validation Loss: 1.8264\n"
          ]
        },
        {
          "output_type": "display_data",
          "data": {
            "text/plain": [
              "<Figure size 640x480 with 1 Axes>"
            ],
            "image/png": "[encoded data removed]"
          },
          "metadata": {}
        }
      ],
      "source": [
        "import torch\n",
        "import torch.nn as nn\n",
        "import torch.optim as optim\n",
        "import matplotlib.pyplot as plt\n",
        "\n",
        "# Assuming you have the train_loader and val_loader already defined\n",
        "\n",
        "# Instantiate the model\n",
        "x1, m1, x2, m2, x3, d = 16, 3, 32, 3, 128, 0.5\n",
        "model = SimpleCNN(x1, m1, x2, m2, x3, d)\n",
        "\n",
        "# Define the loss function and optimizer\n",
        "criterion = nn.CrossEntropyLoss()  #Loss Function: CrossEntropyLoss() is used because this is a classification task (CIFAR-10 has 10 classes).\n",
        "optimizer = optim.Adam(model.parameters(), lr=0.001)  # Optimizer: The Adam optimizer is used with a learning rate of 0.001. Adam is chosen for its adaptive learning rate, which often works well for deep learning tasks.\n",
        "\n",
        "# Training loop\n",
        "#The model will be trained for 20 epochs, and the losses during training and validation are stored in lists for visualization later.\n",
        "num_epochs = 20\n",
        "train_losses = []\n",
        "val_losses = []\n",
        "\n",
        "#Training Phase:\n",
        "for epoch in range(num_epochs):\n",
        "    model.train() #Model Training: The model is set to train() mode, where layers like dropout are activated\n",
        "    running_loss = 0.0\n",
        "\n",
        "    for inputs, labels in train_loader:\n",
        "        optimizer.zero_grad() #Zeroing Gradients: optimizer.zero_grad() ensures gradients are reset before the backward pass.\n",
        "        outputs = model(inputs)\n",
        "        loss = criterion(outputs, labels) #Loss Calculation: The difference between predicted outputs and actual labels is calculated using the loss function.\n",
        "        loss.backward() #Loss Calculation: The difference between predicted outputs and actual labels is calculated using the loss function.\n",
        "        optimizer.step() #The optimizer updates the model's parameters to minimize the loss using optimizer.step().\n",
        "        running_loss += loss.item()#Average Loss Calculation: After each epoch, the average training loss is computed and stored.\n",
        "\n",
        "    # Calculate average training loss for the epoch\n",
        "    avg_train_loss = running_loss / len(train_loader)\n",
        "    train_losses.append(avg_train_loss)\n",
        "#-----------------------------------------------------------------------------------------------------------------------------------------------------------------------------------------------------------------------------------------\n",
        "#Model Evaluation: The model is set to eval() mode, where certain layers (like dropout) behave differently, and no gradients are computed during forward passes.\n",
        "    # Validation loss\n",
        "    model.eval()\n",
        "    val_loss = 0.0\n",
        "\n",
        "    with torch.no_grad(): #No Gradient Calculation: torch.no_grad() is used to disable gradient computation, which reduces memory usage and speeds up the validation phase.\n",
        "        for inputs, labels in val_loader:\n",
        "            outputs = model(inputs)\n",
        "            loss = criterion(outputs, labels)#Loss Calculation: Similar to the training loop, the loss is computed for validation data and averaged across batches.\n",
        "            val_loss += loss.item()\n",
        "\n",
        "    # Calculate average validation loss for the epoch\n",
        "    avg_val_loss = val_loss / len(val_loader)\n",
        "    val_losses.append(avg_val_loss)\n",
        "\n",
        "    # Print progress\n",
        "    print(f\"Epoch [{epoch + 1}/{num_epochs}], Train Loss: {avg_train_loss:.4f}, Validation Loss: {avg_val_loss:.4f}\")\n",
        "\n",
        "# Plot training and validation loss/ Loss Visualization\n",
        "plt.plot(range(1, num_epochs + 1), train_losses, label='Training Loss')\n",
        "plt.plot(range(1, num_epochs + 1), val_losses, label='Validation Loss')\n",
        "plt.xlabel('Epoch')\n",
        "plt.ylabel('Loss')\n",
        "plt.title('Training and Validation Loss')\n",
        "plt.legend()\n",
        "plt.show()\n",
        "\n",
        "#The primary goal of the training phase is to adjust the model's parameters (weights and biases) to minimize the loss function.\n",
        "#The validation phase is used to evaluate the model's performance on a separate subset of the data that it hasn’t been trained on. This helps determine how well the model generalizes to new, unseen data.\n"
      ]
    },
    {
      "cell_type": "markdown",
      "metadata": {
        "id": "n6Kd38q32Ith"
      },
      "source": [
        "8. Why we have chosen adam optimizer over SGD?\n",
        "\n"
      ]
    },
    {
      "cell_type": "markdown",
      "metadata": {
        "id": "BcvRNU8k2Iti"
      },
      "source": [
        "**Adaptive Learning Rates:**\n",
        "\n",
        "Adam adjusts learning rates individually for each parameter based on historical gradients.\n",
        "\n",
        "**Momentum and RMSprop Combined:**\n",
        "\n",
        "Adam combines momentum and RMSprop techniques, leading to faster convergence and better generalization.\n",
        "\n",
        "**Effective for Noisy Data and Sparse Gradients:**\n",
        "\n",
        "Adam handles noisy data and sparse gradients well, making it suitable for real-world, complex datasets.\n",
        "\n",
        "**No Need for Manual Learning Rate Tuning:**\n",
        "\n",
        "Adam reduces the need for manual tuning of learning rates, providing robust performance across a range of hyperparameter choices.\n",
        "\n",
        "**Efficient Memory Usage:**\n",
        "\n",
        "Adam's use of moving averages for squared gradients results in efficient memory usage, beneficial for large datasets or limited computational resources.\n",
        "\n",
        "**Well-suited for Deep Learning:**\n",
        "\n",
        "Adam has demonstrated effectiveness in training deep neural networks, which often have complex architectures and numerous parameters."
      ]
    },
    {
      "cell_type": "markdown",
      "metadata": {
        "id": "z3id4E1C2Iti"
      },
      "source": [
        "9. Why we have chosen sparse categorical crossentropy as the loss function?\n",
        "\n"
      ]
    },
    {
      "cell_type": "markdown",
      "metadata": {
        "id": "yS4x1TfC2Iti"
      },
      "source": [
        "- **Single-Label Classification:**\n",
        "  - Suitable for problems where each instance belongs to only one class.\n",
        "\n",
        "- **Integer Class Labels:**\n",
        "  - Designed for scenarios with integer class labels, avoiding the need for one-hot encoding.\n",
        "\n",
        "- **Efficiency:**\n",
        "  - Computationally efficient for a large number of classes, reducing the need for explicit one-hot encoding.\n",
        "\n",
        "- **Memory Efficiency:**\n",
        "  - Efficient memory usage, particularly important for deep learning models with limited resources.\n",
        "\n",
        "- **Commonly Used for Classification:**\n",
        "  - Standard choice for classification tasks, often used with softmax activation in the output layer.\n",
        "\n",
        "- **Gradient Computation:**\n",
        "  - Computationally efficient gradient computation, making it suitable for backpropagation in neural network training.\n",
        "\n",
        "- **Handles Class Imbalance:**\n",
        "  - Effective in dealing with class imbalance without requiring equal representation of each class.\n"
      ]
    },
    {
      "cell_type": "markdown",
      "metadata": {
        "id": "6KcDVZGC2Iti"
      },
      "source": [
        "10. Evaluate the Model: After training, evaluate the model’s performance on the testing\n",
        "dataset. Record the train/test accuracy, confusion matrix, precision and recall.\n"
      ]
    },
    {
      "cell_type": "code",
      "execution_count": 6,
      "metadata": {
        "colab": {
          "base_uri": "https://localhost:8080/",
          "height": 618
        },
        "id": "7ycO2e472Iti",
        "outputId": "f7228ce3-dc17-42b4-cfe2-ee5d33b23b34"
      },
      "outputs": [
        {
          "output_type": "stream",
          "name": "stdout",
          "text": [
            "Test Accuracy: 62.79%\n"
          ]
        },
        {
          "output_type": "display_data",
          "data": {
            "text/plain": [
              "<Figure size 800x600 with 2 Axes>"
            ],
            "image/png": "[encoded data removed]"
          },
          "metadata": {}
        },
        {
          "output_type": "stream",
          "name": "stdout",
          "text": [
            "Weighted Precision: 0.6347\n",
            "Weighted Recall: 0.6279\n"
          ]
        }
      ],
      "source": [
        "#Evaluate the Model:\n",
        "import torch\n",
        "from sklearn.metrics import accuracy_score, confusion_matrix, precision_score, recall_score\n",
        "import seaborn as sns\n",
        "import matplotlib.pyplot as plt\n",
        "\n",
        "# Assuming you have the test_loader and the model already defined\n",
        "\n",
        "# Set the model to evaluation mode\n",
        "model.eval()\n",
        "\n",
        "# Lists to store predictions and true labels\n",
        "all_predictions = []\n",
        "all_labels = []\n",
        "\n",
        "# Iterate over the test dataset\n",
        "with torch.no_grad():\n",
        "    for inputs, labels in test_loader:\n",
        "        outputs = model(inputs)\n",
        "        _, predictions = torch.max(outputs, 1)  # Get the index of the class with the maximum probability\n",
        "        all_predictions.extend(predictions.numpy())\n",
        "        all_labels.extend(labels.numpy())\n",
        "\n",
        "# Calculate accuracy\n",
        "accuracy = accuracy_score(all_labels, all_predictions)  #This gives the percentage of correct predictions out of the total number of examples.\n",
        "print(f'Test Accuracy: {accuracy * 100:.2f}%')\n",
        "\n",
        "# Confusion Matrix\n",
        "#Confusion Matrix: A confusion matrix is generated using confusion_matrix, which shows the count of predictions for each true class vs. the predicted class. It helps identify where the model is making classification errors:\n",
        "\n",
        "cm = confusion_matrix(all_labels, all_predictions)\n",
        "plt.figure(figsize=(8, 6))\n",
        "sns.heatmap(cm, annot=True, fmt=\"d\", cmap=\"Blues\", xticklabels=range(10), yticklabels=range(10))\n",
        "plt.xlabel(\"Predicted Label\")\n",
        "plt.ylabel(\"True Label\")\n",
        "plt.title(\"Confusion Matrix\")\n",
        "plt.show()\n",
        "\n",
        "# Precision and Recall\n",
        "precision = precision_score(all_labels, all_predictions, average='weighted') #Precision measures the proportion of correct positive predictions out of all positive predictions (how many selected items are relevant).\n",
        "recall = recall_score(all_labels, all_predictions, average='weighted') #Recall (or sensitivity) measures the proportion of actual positives that are correctly identified (how many relevant items are selected).\n",
        "\n",
        "print(f'Weighted Precision: {precision:.4f}')\n",
        "print(f'Weighted Recall: {recall:.4f}')\n"
      ]
    },
    {
      "cell_type": "markdown",
      "metadata": {
        "id": "NkEiTOiY2Itj"
      },
      "source": [
        "11. Plot training and validation loss for with respect to epoch for different learning rates\n",
        "such as 0.0001, 0.001, 0.01, and 0.1."
      ]
    },
    {
      "cell_type": "markdown",
      "metadata": {
        "id": "VfSXKZrT2Itj"
      },
      "source": [
        "**2 Compare your network with state-of-the-art networks***\n",
        "\n",
        "\"In practice, training an entire convolutional network from scratch (starting with\n",
        "random initialization) is a rare occurrence. This is primarily due to the scarcity of\n",
        "datasets of sufficient size. Instead, a common approach is to first pretrain a CNN\n",
        "on an extensive dataset, such as ImageNet, which comprises 1.2 million images\n",
        "across 1000 categories. Subsequently, this pretrained CNN can be utilized as either\n",
        "an initialization point or a fixed feature extractor when tackling a specific task of\n",
        "interest. This is known as transfer learning\" 3\n",
        "."
      ]
    },
    {
      "cell_type": "markdown",
      "metadata": {
        "id": "OpnyOked2Itj"
      },
      "source": [
        "12. Choose two state-of-the-art pre-trained model or architecture like ImageNet, ResNet,\n",
        "Googlenet, AlexNet, DenseNet and VGG.\n",
        "\n",
        "13. Load the pre-trained model and fine-tune it for the CIFAR-10 dataset.\n",
        "\n",
        "14. Train the fine-tuned model using the same training and testing data splits as your\n",
        "custom CNN model.\n",
        "\n",
        "\n"
      ]
    },
    {
      "cell_type": "markdown",
      "metadata": {
        "id": "0VEz9TEN2Itj"
      },
      "source": [
        "\n",
        "15. Record training and validation loss values for each epoch.\n"
      ]
    },
    {
      "cell_type": "code",
      "execution_count": null,
      "metadata": {
        "colab": {
          "base_uri": "https://localhost:8080/"
        },
        "id": "WHNiAPQM2Itj",
        "outputId": "2e5a16df-f612-4063-d28d-5261ed91ecf5"
      },
      "outputs": [
        {
          "metadata": {
            "tags": null
          },
          "name": "stdout",
          "output_type": "stream",
          "text": [
            "\n",
            "Fine-tuning resnet for CIFAR-10:\n"
          ]
        },
        {
          "metadata": {
            "tags": null
          },
          "name": "stderr",
          "output_type": "stream",
          "text": [
            "/usr/local/lib/python3.10/dist-packages/torchvision/models/_utils.py:208: UserWarning: The parameter 'pretrained' is deprecated since 0.13 and may be removed in the future, please use 'weights' instead.\n",
            "  warnings.warn(\n",
            "/usr/local/lib/python3.10/dist-packages/torchvision/models/_utils.py:223: UserWarning: Arguments other than a weight enum or `None` for 'weights' are deprecated since 0.13 and may be removed in the future. The current behavior is equivalent to passing `weights=ResNet18_Weights.IMAGENET1K_V1`. You can also use `weights=ResNet18_Weights.DEFAULT` to get the most up-to-date weights.\n",
            "  warnings.warn(msg)\n",
            "Downloading: \"https://download.pytorch.org/models/resnet18-f37072fd.pth\" to /root/.cache/torch/hub/checkpoints/resnet18-f37072fd.pth\n",
            "100%|██████████| 44.7M/44.7M [00:00<00:00, 134MB/s]\n"
          ]
        },
        {
          "metadata": {
            "tags": null
          },
          "name": "stdout",
          "output_type": "stream",
          "text": [
            "Epoch 1/5, Train Loss: 1.0641, Validation Loss: 0.8705\n",
            "Epoch 2/5, Train Loss: 0.7246, Validation Loss: 0.9767\n",
            "Epoch 3/5, Train Loss: 0.5831, Validation Loss: 0.6352\n",
            "Epoch 4/5, Train Loss: 0.4554, Validation Loss: 0.6445\n",
            "Epoch 5/5, Train Loss: 0.3569, Validation Loss: 0.6923\n",
            "\n",
            "Final resnet Training  Loss: 0.3569\n",
            "Final resnet Validation Loss: 0.6923\n",
            "\n",
            "Fine-tuning densenet for CIFAR-10:\n"
          ]
        },
        {
          "metadata": {
            "tags": null
          },
          "name": "stderr",
          "output_type": "stream",
          "text": [
            "/usr/local/lib/python3.10/dist-packages/torchvision/models/_utils.py:223: UserWarning: Arguments other than a weight enum or `None` for 'weights' are deprecated since 0.13 and may be removed in the future. The current behavior is equivalent to passing `weights=DenseNet121_Weights.IMAGENET1K_V1`. You can also use `weights=DenseNet121_Weights.DEFAULT` to get the most up-to-date weights.\n",
            "  warnings.warn(msg)\n",
            "Downloading: \"https://download.pytorch.org/models/densenet121-a639ec97.pth\" to /root/.cache/torch/hub/checkpoints/densenet121-a639ec97.pth\n",
            "100%|██████████| 30.8M/30.8M [00:00<00:00, 118MB/s]\n"
          ]
        },
        {
          "metadata": {
            "tags": null
          },
          "name": "stdout",
          "output_type": "stream",
          "text": [
            "Epoch 1/5, Train Loss: 0.9456, Validation Loss: 0.7117\n",
            "Epoch 2/5, Train Loss: 0.6236, Validation Loss: 0.5735\n",
            "Epoch 3/5, Train Loss: 0.5018, Validation Loss: 0.6390\n",
            "Epoch 4/5, Train Loss: 0.3991, Validation Loss: 0.5520\n"
          ]
        }
      ],
      "source": [
        "import torch\n",
        "import torchvision\n",
        "from torchvision import transforms, models #models: Contains pre-trained models (ResNet, DenseNet, etc.) that can be easily fine-tuned or used as feature extractors.\n",
        "import torch.nn as nn\n",
        "import torch.optim as optim\n",
        "from torch.utils.data import DataLoader\n",
        "from sklearn.metrics import accuracy_score\n",
        "\n",
        "\n",
        "# Function to load a pre-trained model and modify the classifier for CIFAR-10\n",
        "#def load_and_modify_model(model_name): This function takes a model name (resnet or densenet) as input and returns a pre-trained model that's modified for the CIFAR-10 dataset (which has 10 classes).\n",
        "\n",
        "def load_and_modify_model(model_name):\n",
        "    if model_name == 'resnet':\n",
        "        model = models.resnet18(pretrained=True)\n",
        "        in_features = model.fc.in_features\n",
        "        model.fc = nn.Linear(in_features, 10)  # model.fc = nn.Linear(in_features, 10): Replaces the fully connected layer to output 10 classes instead of the original 1000 from ImageNet.\n",
        "    elif model_name == 'densenet':\n",
        "        model = models.densenet121(pretrained=True)\n",
        "        in_features = model.classifier.in_features\n",
        "        model.classifier = nn.Linear(in_features, 10)  # model.fc = nn.Linear(in_features, 10): Replaces the fully connected layer to output 10 classes instead of the original 1000 from ImageNet.\n",
        "    else:\n",
        "        raise ValueError(\"Invalid model name\")\n",
        "\n",
        "    return model\n",
        "\n",
        "# Function to fine-tune the model\n",
        "#def fine_tune_model: This function fine-tunes the provided model on the CIFAR-10 dataset.\n",
        "def fine_tune_model(model, train_loader, test_loader, num_epochs=5, learning_rate=0.001):\n",
        "    device = torch.device(\"cuda\" if torch.cuda.is_available() else \"cpu\")  #Checks if a GPU is available; if so, it assigns cuda to the device, otherwise cpu.\n",
        "    model = model.to(device)\n",
        "\n",
        "    criterion = nn.CrossEntropyLoss()\n",
        "    optimizer = optim.Adam(model.parameters(), lr=learning_rate)\n",
        "\n",
        "    # Lists to store training and validation losses\n",
        "    train_losses = []\n",
        "    val_losses = []\n",
        "\n",
        "    # Fine-tuning loop\n",
        "    for epoch in range(num_epochs):\n",
        "        model.train()\n",
        "        running_train_loss = 0.0\n",
        "        for inputs, labels in train_loader:\n",
        "            inputs, labels = inputs.to(device), labels.to(device)\n",
        "            optimizer.zero_grad()\n",
        "            outputs = model(inputs)\n",
        "            loss = criterion(outputs, labels)\n",
        "            loss.backward()\n",
        "            optimizer.step()\n",
        "            running_train_loss += loss.item()\n",
        "\n",
        "        # Average training loss for the epoch\n",
        "        avg_train_loss = running_train_loss / len(train_loader)\n",
        "        train_losses.append(avg_train_loss)\n",
        "\n",
        "        # Validation\n",
        "        model.eval()\n",
        "        running_val_loss = 0.0\n",
        "        with torch.no_grad():\n",
        "            for inputs, labels in test_loader:\n",
        "                inputs, labels = inputs.to(device), labels.to(device)\n",
        "                outputs = model(inputs)\n",
        "                loss = criterion(outputs, labels)\n",
        "                running_val_loss += loss.item()\n",
        "\n",
        "        # Average validation loss for the epoch\n",
        "        avg_val_loss = running_val_loss / len(test_loader)\n",
        "        val_losses.append(avg_val_loss)\n",
        "\n",
        "        # Print progress\n",
        "        print(f\"Epoch {epoch+1}/{num_epochs}, Train Loss: {avg_train_loss:.4f}, Validation Loss: {avg_val_loss:.4f}\")\n",
        "\n",
        "    return train_losses, val_losses\n",
        "\n",
        "# Choose the models to fine-tune\n",
        "model_names = ['resnet', 'densenet']\n",
        "\n",
        "# Fine-tune each model\n",
        "#resnet\n",
        "print(f\"\\nFine-tuning {model_names[0]} for CIFAR-10:\")\n",
        "pre_trained_resnet_model = load_and_modify_model(model_names[0])\n",
        "train_resnet_losses, val_resnet_losses = fine_tune_model(pre_trained_resnet_model, train_loader, test_loader)\n",
        "\n",
        "# Print the final training and validation loss values\n",
        "print(f\"\\nFinal resnet Training  Loss: {train_resnet_losses[-1]:.4f}\")\n",
        "print(f\"Final resnet Validation Loss: {val_resnet_losses[-1]:.4f}\")\n",
        "\n",
        "#densenet\n",
        "print(f\"\\nFine-tuning {model_names[1]} for CIFAR-10:\")\n",
        "pre_trained_densenet_model = load_and_modify_model(model_names[1])\n",
        "train_densenet_losses, val_densenet_losses = fine_tune_model(pre_trained_densenet_model, train_loader, test_loader)\n",
        "\n",
        "# Print the final training and validation loss values\n",
        "print(f\"\\nFinal densenet Training Loss: {train_densenet_losses[-1]:.4f}\")\n",
        "print(f\"Final densenet Validation Loss: {val_densenet_losses[-1]:.4f}\")"
      ]
    },
    {
      "cell_type": "markdown",
      "metadata": {
        "id": "vBE-mxpY2Itk"
      },
      "source": [
        "16. Evaluate the fine-tuned model on the testing dataset and calculate the test accuracy"
      ]
    },
    {
      "cell_type": "code",
      "execution_count": 13,
      "metadata": {
        "colab": {
          "base_uri": "https://localhost:8080/"
        },
        "id": "m0qmkkWJ2Itk",
        "outputId": "562054e8-614f-48e9-822f-39b5611ffee1"
      },
      "outputs": [
        {
          "output_type": "stream",
          "name": "stdout",
          "text": [
            "Test Accuracy (ResNet): 77.39%\n",
            "Test Accuracy (Densenet): 81.73%\n"
          ]
        }
      ],
      "source": [
        "import torch\n",
        "from sklearn.metrics import accuracy_score\n",
        "\n",
        "# Function to evaluate a model on the testing dataset\n",
        "def evaluate_model(model, test_loader):\n",
        "    model.eval()\n",
        "    all_predictions = []\n",
        "    all_labels = []\n",
        "\n",
        "    with torch.no_grad():\n",
        "        for inputs, labels in test_loader:\n",
        "            outputs = model(inputs)\n",
        "            _, predictions = torch.max(outputs, 1)  # Get the index of the class with the maximum probability\n",
        "            all_predictions.extend(predictions.numpy())\n",
        "            all_labels.extend(labels.numpy())\n",
        "\n",
        "    accuracy = accuracy_score(all_labels, all_predictions)\n",
        "    return accuracy\n",
        "\n",
        "# Evaluate the fine-tuned models on the testing dataset\n",
        "resnet_accuracy = evaluate_model(pre_trained_resnet_model, test_loader)\n",
        "densenet_accuracy = evaluate_model(pre_trained_densenet_model, test_loader)\n",
        "\n",
        "print(f\"Test Accuracy (ResNet): {resnet_accuracy * 100:.2f}%\")\n",
        "print(f\"Test Accuracy (Densenet): {densenet_accuracy * 100:.2f}%\")\n"
      ]
    },
    {
      "cell_type": "markdown",
      "metadata": {
        "id": "_ESiLwxM2Itk"
      },
      "source": [
        "17. Compare the test accuracy of your custom CNN model with that of the fine-tuned\n",
        "state-of-the-art model.\n",
        "\n"
      ]
    },
    {
      "cell_type": "code",
      "execution_count": 14,
      "metadata": {
        "colab": {
          "base_uri": "https://localhost:8080/"
        },
        "id": "S635Yizf2Itk",
        "outputId": "d0c6a5b8-e056-4cd3-cc49-3555014fa312"
      },
      "outputs": [
        {
          "output_type": "stream",
          "name": "stdout",
          "text": [
            "\n",
            "Evaluation on Custom CNN:\n",
            "\n",
            "Comparison of Test Accuracy:\n",
            "Custom CNN Test Accuracy: 62.79%\n",
            "Fine-Tuned ResNet Test Accuracy: 77.39%\n",
            "Fine-Tuned DenseNet Test Accuracy: 81.73%\n"
          ]
        }
      ],
      "source": [
        "\n",
        "# Assuming you have the 'model' variable containing your custom CNN model\n",
        "\n",
        "# Evaluate the custom CNN model on the testing dataset\n",
        "print(\"\\nEvaluation on Custom CNN:\")\n",
        "evaluate_model(model, test_loader)\n",
        "\n",
        "# Compare with fine-tuned models\n",
        "print(\"\\nComparison of Test Accuracy:\")\n",
        "print(f\"Custom CNN Test Accuracy: {accuracy * 100:.2f}%\")\n",
        "print(f\"Fine-Tuned ResNet Test Accuracy: {resnet_accuracy * 100:.2f}%\")\n",
        "print(f\"Fine-Tuned DenseNet Test Accuracy: {densenet_accuracy * 100:.2f}%\")\n"
      ]
    },
    {
      "cell_type": "markdown",
      "metadata": {
        "id": "YkwCU0Vv2Itl"
      },
      "source": [
        "18. Discuss trade-offs, advantages, and limitations of using a custom model versus a\n",
        "pre-trained model."
      ]
    }
  ],
  "metadata": {
    "kernelspec": {
      "display_name": "Python 3",
      "language": "python",
      "name": "python3"
    },
    "language_info": {
      "codemirror_mode": {
        "name": "ipython",
        "version": 3
      },
      "file_extension": ".py",
      "mimetype": "text/x-python",
      "name": "python",
      "nbconvert_exporter": "python",
      "pygments_lexer": "ipython3",
      "version": "3.11.9"
    },
    "colab": {
      "provenance": []
    }
  },
  "nbformat": 4,
  "nbformat_minor": 0
}